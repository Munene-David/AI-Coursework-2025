{
 "cells": [
  {
   "cell_type": "code",
   "execution_count": 1,
   "metadata": {
    "tags": []
   },
   "outputs": [
    {
     "name": "stdout",
     "output_type": "stream",
     "text": [
      "There are 1036800 seconds in 12 days.\n"
     ]
    }
   ],
   "source": [
    "#Write a program that asks the user for a number of days. The program then prints out the number of seconds in the amount of days given\n",
    "days = int(input(\"Enter number of days: \"))\n",
    "seconds = days * 24 * 60 * 60\n",
    "print(f\"There are {seconds} seconds in {days} days.\")"
   ]
  },
  {
   "cell_type": "code",
   "execution_count": 2,
   "metadata": {},
   "outputs": [
    {
     "name": "stdout",
     "output_type": "stream",
     "text": [
      "The volume of the sphere with radius 10.0 is 4188.79.\n"
     ]
    }
   ],
   "source": [
    "#Write a program that asks a user to input the radius then the program calculates the volume of a sphere (the formula for the volume is (4/3)πr3). Use the exponential operator in python to compute (r3\n",
    "import math\n",
    "radius = float(input(\"Enter the radius of the sphere: \"))\n",
    "volume = (4/3) * math.pi * (radius ** 3)\n",
    "print(f\"The volume of the sphere with radius {radius} is {volume:.2f}.\")\n"
   ]
  },
  {
   "cell_type": "code",
   "execution_count": null,
   "metadata": {},
   "outputs": [],
   "source": [
    "#Using functions, write a program to compute the area and perimeter of a square. The program should ask the user to enter a number corresponding to the side length of the square and display the area and perimeter of the square.\n",
    "def square_area_perimeter(side_length):\n",
    "    area = side_length ** 2\n",
    "    perimeter = 4 * side_length\n",
    "    return area, perimeter\n",
    "side_length = float(input(\"Enter the side length of the square: \"))\n",
    "area, perimeter = square_area_perimeter(side_length)\n",
    "print(f\"The area of the square is {area} and the perimeter is {perimeter}.\")\n"
   ]
  },
  {
   "cell_type": "code",
   "execution_count": null,
   "metadata": {},
   "outputs": [],
   "source": [
    "#Write a program using functions that determines whether a character input by a user is uppercase or lower case.\n",
    "def check_case(character):\n",
    "    if character.isupper():\n",
    "        return \"uppercase\"\n",
    "    elif character.islower():\n",
    "        return \"lowercase\"\n",
    "    else:\n",
    "        return \"not a letter\"\n",
    "char = input(\"Enter a character: \")\n",
    "result = check_case(char)\n",
    "print(f\"The character '{char}' is {result}.\")\n"
   ]
  },
  {
   "cell_type": "code",
   "execution_count": null,
   "metadata": {},
   "outputs": [],
   "source": [
    "#The following is pseudocode for a program being designed. Write the Python program equivalent of the same.\n",
    "#BEGIN\n",
    "#SET x TO 0, y TO 20\n",
    "#REPEAT\n",
    "#SUBTRACT 4 FROM y\n",
    "#ADD 2/y TO x\n",
    "#UNTIL\n",
    "#y IS LESS THAN 6\n",
    "#DISPLAY x\n",
    "#END\n",
    "x = 0\n",
    "y = 20\n",
    "while y >= 6:\n",
    "    y -= 4\n",
    "    x += 2 / y\n",
    "print(x)\n",
    "#END\n"
   ]
  },
  {
   "cell_type": "code",
   "execution_count": null,
   "metadata": {},
   "outputs": [],
   "source": [
    "#Write a Python program that does the following:\n",
    "#• Uses a loop for a user to continually input 5 values to populate an array.\n",
    "#• Calculates and displays the average of the values input into the array\n",
    "values = [] \n",
    "for i in range(5):\n",
    "    value = float(input(f\"Enter value {i+1}: \"))\n",
    "    values.append(value)\n",
    "average = sum(values) / len(values)\n",
    "print(f\"The average of the entered values is {average}.\")\n"
   ]
  },
  {
   "cell_type": "code",
   "execution_count": null,
   "metadata": {},
   "outputs": [],
   "source": [
    "from IPython.display import Image, display\n",
    "\n",
    "# Display the screenshot of result analysis\n",
    "display(Image(filename=\"Solutions.jpg\", width=600))\n",
    "display(Image(filename=\"test.jpg\", width=600))\n",
    "display(Image(filename=\"AIassignments.jpg\", width=600))"
   ]
  }
 ],
 "metadata": {
  "kernelspec": {
   "display_name": "Python 3",
   "language": "python",
   "name": "python3"
  },
  "language_info": {
   "codemirror_mode": {
    "name": "ipython",
    "version": 3
   },
   "file_extension": ".py",
   "mimetype": "text/x-python",
   "name": "python",
   "nbconvert_exporter": "python",
   "pygments_lexer": "ipython3",
   "version": "3.12.6"
  }
 },
 "nbformat": 4,
 "nbformat_minor": 2
}
